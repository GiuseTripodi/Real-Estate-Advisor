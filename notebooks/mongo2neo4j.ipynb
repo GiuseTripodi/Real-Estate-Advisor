{
 "cells": [
  {
   "cell_type": "markdown",
   "metadata": {},
   "source": [
    "## Requirements"
   ]
  },
  {
   "cell_type": "code",
   "execution_count": 1,
   "metadata": {},
   "outputs": [
    {
     "name": "stdout",
     "output_type": "stream",
     "text": [
      "Requirement already satisfied: pymongo in /opt/conda/lib/python3.9/site-packages (4.1.1)\n",
      "Requirement already satisfied: pandas in /opt/conda/lib/python3.9/site-packages (1.4.2)\n",
      "Requirement already satisfied: py2neo in /opt/conda/lib/python3.9/site-packages (2021.2.3)\n",
      "Requirement already satisfied: python-dateutil>=2.8.1 in /opt/conda/lib/python3.9/site-packages (from pandas) (2.8.2)\n",
      "Requirement already satisfied: pytz>=2020.1 in /opt/conda/lib/python3.9/site-packages (from pandas) (2022.1)\n",
      "Requirement already satisfied: numpy>=1.18.5 in /opt/conda/lib/python3.9/site-packages (from pandas) (1.21.6)\n",
      "Requirement already satisfied: pygments>=2.0.0 in /opt/conda/lib/python3.9/site-packages (from py2neo) (2.11.2)\n",
      "Requirement already satisfied: certifi in /opt/conda/lib/python3.9/site-packages (from py2neo) (2021.10.8)\n",
      "Requirement already satisfied: monotonic in /opt/conda/lib/python3.9/site-packages (from py2neo) (1.6)\n",
      "Requirement already satisfied: six>=1.15.0 in /opt/conda/lib/python3.9/site-packages (from py2neo) (1.16.0)\n",
      "Requirement already satisfied: urllib3 in /opt/conda/lib/python3.9/site-packages (from py2neo) (1.26.9)\n",
      "Requirement already satisfied: pansi>=2020.7.3 in /opt/conda/lib/python3.9/site-packages (from py2neo) (2020.7.3)\n",
      "Requirement already satisfied: interchange~=2021.0.4 in /opt/conda/lib/python3.9/site-packages (from py2neo) (2021.0.4)\n",
      "Requirement already satisfied: packaging in /opt/conda/lib/python3.9/site-packages (from py2neo) (21.3)\n",
      "Requirement already satisfied: pyparsing!=3.0.5,>=2.0.2 in /opt/conda/lib/python3.9/site-packages (from packaging->py2neo) (3.0.8)\n"
     ]
    }
   ],
   "source": [
    "!python -m pip install pymongo pandas py2neo"
   ]
  },
  {
   "cell_type": "markdown",
   "metadata": {},
   "source": [
    "## MongoDB"
   ]
  },
  {
   "cell_type": "code",
   "execution_count": 2,
   "metadata": {},
   "outputs": [],
   "source": [
    "from pymongo import MongoClient\n",
    "from pandas import DataFrame\n",
    "\n",
    "def get_database():\n",
    "\n",
    "    # Provide the mongodb atlas url to connect python to mongodb using pymongo\n",
    "    CONNECTION_STRING = \"mongodb://mongo:27017\"\n",
    "\n",
    "    # Create a connection using MongoClient. You can import MongoClient or use pymongo.MongoClient\n",
    "    client = MongoClient(CONNECTION_STRING)\n",
    "\n",
    "    # Create the database for our example (we will use the same database throughout the tutorial\n",
    "    return client['kg']\n",
    "\n",
    "db = get_database()"
   ]
  },
  {
   "cell_type": "markdown",
   "metadata": {},
   "source": [
    "### condos collection"
   ]
  },
  {
   "cell_type": "code",
   "execution_count": 3,
   "metadata": {},
   "outputs": [
    {
     "name": "stdout",
     "output_type": "stream",
     "text": [
      "                           _id                                  uuid  \\\n",
      "0     627c1dc474514e56c8bd2746  083c82b6-ec42-4944-beb4-a6ca8aa3da02   \n",
      "1     627c1dc474514e56c8bd2747  9a7a65f7-033e-4d5c-b5c3-a6ca8aa3da02   \n",
      "2     627c1dc474514e56c8bd2748  74089b09-d4d3-4def-a9ca-b34e9d305250   \n",
      "3     627c1dc474514e56c8bd2749  effb8463-6284-4be4-841d-a6ca8aa3da02   \n",
      "4     627c1dc474514e56c8bd274a  825b0bd1-89c0-446a-8fe5-b34e9d305250   \n",
      "...                        ...                                   ...   \n",
      "1244  627c1dc574514e56c8bd2c22  2f72ab67-68c8-46aa-875b-a6ca8aa3da02   \n",
      "1245  627c1dc574514e56c8bd2c23  f8a117c4-07b8-4a15-bc53-b34e9d305250   \n",
      "1246  627c1dc574514e56c8bd2c24  00655fc4-224d-45c5-9e66-a6ca8aa3da02   \n",
      "1247  627c1dc574514e56c8bd2c25  e7bf7818-6966-4034-b06f-a6ca8aa3da02   \n",
      "1248  627c1dc574514e56c8bd2c26  36d46032-d821-44ca-a284-a6ca8aa3da02   \n",
      "\n",
      "                                            description  \\\n",
      "0     WOHLFÜHLEN GARANTIERT! EXKLUSIVE 3-ZIMMER-WOHN...   \n",
      "1     ! NEU ! Gartenwohnung - Ost-Süd Ausrichtung - ...   \n",
      "2     TrIIIple - Wohnen zwischen City, Prater, Haupt...   \n",
      "3     ERSTBEZUG 2 ZIMMER SCHLÜSSELFERTIG IN AUFSTREB...   \n",
      "4     B R I G I T T A - L I V I N G Nähe Augarten un...   \n",
      "...                                                 ...   \n",
      "1244            \"MaisoNette Terasse und Garten Wohnung\"   \n",
      "1245  Provisionsfrei! - Exklusive Donaulage - Ihr Wo...   \n",
      "1246  .*** 2-Zimmer Wohnung nähe Meidlinger Hauptstr...   \n",
      "1247  Neubau-Anlegerwohnung in Wien-Favoriten: Ideal...   \n",
      "1248  PROVISIONSFREI!! - EXKLUSIVES WOHNEN AN DER DO...   \n",
      "\n",
      "                     published  \\\n",
      "0     2022-04-03T14:34:00+0200   \n",
      "1     2022-04-01T16:04:00+0200   \n",
      "2     2022-04-01T15:50:00+0200   \n",
      "3     2022-04-01T09:16:00+0200   \n",
      "4     2022-04-01T18:37:00+0200   \n",
      "...                        ...   \n",
      "1244  2022-04-01T16:35:00+0200   \n",
      "1245  2022-03-31T10:37:00+0200   \n",
      "1246  2022-04-03T09:04:00+0200   \n",
      "1247  2022-03-31T10:10:00+0200   \n",
      "1248  2022-04-02T18:05:00+0200   \n",
      "\n",
      "                                             attributes  \\\n",
      "0     {'FLOOR': '6', 'ADDITIONAL_COST/FEE': 'Provisi...   \n",
      "1     {'ADDITIONAL_COST/FEE': '3.0% plus 20.0% USt.'...   \n",
      "2     {'FLOOR': '28', 'ADDITIONAL_COST/FEE': '3% des...   \n",
      "3     {'GENERAL_TEXT_ADVERT/Ausstattung': '<ul> <li>...   \n",
      "4     {'FLOOR': '0', 'ADDITIONAL_COST/FEE': '10.339,...   \n",
      "...                                                 ...   \n",
      "1244  {'FLOOR': '0', 'ADDITIONAL_COST/FEE': '3,00 % ...   \n",
      "1245  {'GENERAL_TEXT_ADVERT/Ausstattung': '<ul> <li>...   \n",
      "1246  {'GENERAL_TEXT_ADVERT/Ausstattung': '<ul> <li>...   \n",
      "1247  {'GENERAL_TEXT_ADVERT/Ausstattung': '<ul> <li>...   \n",
      "1248  {'FLOOR': '7', 'ADDITIONAL_COST/FEE': 'Provisi...   \n",
      "\n",
      "                                               location  locationAccuracy  \\\n",
      "0     {'type': 'Point', 'coordinates': [16.425406, 4...             252.0   \n",
      "1     {'type': 'Point', 'coordinates': [16.28262, 48...               NaN   \n",
      "2     {'type': 'Point', 'coordinates': [16.4093, 48....               NaN   \n",
      "3     {'type': 'Point', 'coordinates': [16.367174, 4...             254.0   \n",
      "4     {'type': 'Point', 'coordinates': [16.377232, 4...             264.0   \n",
      "...                                                 ...               ...   \n",
      "1244  {'type': 'Point', 'coordinates': [16.425917, 4...               NaN   \n",
      "1245  {'type': 'Point', 'coordinates': [16.429426, 4...             264.0   \n",
      "1246  {'type': 'Point', 'coordinates': [16.34298, 48...             257.0   \n",
      "1247  {'type': 'Point', 'coordinates': [16.3722, 48....               NaN   \n",
      "1248  {'type': 'Point', 'coordinates': [16.425406, 4...             252.0   \n",
      "\n",
      "                                                 rawObj  \n",
      "0     {'id': '555708683', 'uuid': '083c82b6-ec42-494...  \n",
      "1     {'id': '557112562', 'uuid': '9a7a65f7-033e-4d5...  \n",
      "2     {'id': '476046759', 'uuid': '74089b09-d4d3-4de...  \n",
      "3     {'id': '555118890', 'uuid': 'effb8463-6284-4be...  \n",
      "4     {'id': '523490797', 'uuid': '825b0bd1-89c0-446...  \n",
      "...                                                 ...  \n",
      "1244  {'id': '557120211', 'uuid': '2f72ab67-68c8-46a...  \n",
      "1245  {'id': '550874438', 'uuid': 'f8a117c4-07b8-4a1...  \n",
      "1246  {'id': '557560798', 'uuid': '00655fc4-224d-45c...  \n",
      "1247  {'id': '556731045', 'uuid': 'e7bf7818-6966-403...  \n",
      "1248  {'id': '555494293', 'uuid': '36d46032-d821-44c...  \n",
      "\n",
      "[1249 rows x 8 columns]\n"
     ]
    }
   ],
   "source": [
    "condos = db[\"condos\"]\n",
    "condos = condos.find()\n",
    "condos_df = DataFrame(condos)\n",
    "print(condos_df)"
   ]
  },
  {
   "cell_type": "markdown",
   "metadata": {},
   "source": [
    "### osm collection"
   ]
  },
  {
   "cell_type": "code",
   "execution_count": null,
   "metadata": {},
   "outputs": [],
   "source": [
    "osm = db[\"osm\"]\n",
    "osm = osm.find()\n",
    "osm_df = DataFrame(osm)\n",
    "print(osm_df)"
   ]
  },
  {
   "cell_type": "markdown",
   "metadata": {},
   "source": [
    "### stations collection"
   ]
  },
  {
   "cell_type": "code",
   "execution_count": null,
   "metadata": {},
   "outputs": [],
   "source": [
    "stations = db[\"stations\"]\n",
    "stations = stations.find()\n",
    "stations_df = DataFrame(stations)\n",
    "print(stations_df)"
   ]
  },
  {
   "cell_type": "markdown",
   "metadata": {},
   "source": [
    "## Setup Neo4j"
   ]
  },
  {
   "cell_type": "code",
   "execution_count": 25,
   "metadata": {},
   "outputs": [
    {
     "data": {
      "text/html": [
       "<table><tr><th>n</th><th>n_sq</th></tr><tr><td style=\"text-align:right\">1</td><td style=\"text-align:right\">1</td></tr><tr><td style=\"text-align:right\">2</td><td style=\"text-align:right\">4</td></tr><tr><td style=\"text-align:right\">3</td><td style=\"text-align:right\">9</td></tr></table>"
      ],
      "text/plain": [
       " n | n_sq \n",
       "---|------\n",
       " 1 |    1 \n",
       " 2 |    4 \n",
       " 3 |    9 "
      ]
     },
     "execution_count": 25,
     "metadata": {},
     "output_type": "execute_result"
    }
   ],
   "source": [
    "from py2neo import Graph\n",
    "graph = Graph(\"bolt://host.docker.internal:7687\")\n",
    "\n",
    "# HOW DO I ADD GRAPHS HERE?!\n",
    "# https://neo4j.com/developer/python/\n",
    "graph.run(\"UNWIND range(1, 3) AS n RETURN n, n * n as n_sq\")"
   ]
  }
 ],
 "metadata": {
  "interpreter": {
   "hash": "767d51c1340bd893661ea55ea3124f6de3c7a262a8b4abca0554b478b1e2ff90"
  },
  "kernelspec": {
   "display_name": "Python 3 (ipykernel)",
   "language": "python",
   "name": "python3"
  },
  "language_info": {
   "codemirror_mode": {
    "name": "ipython",
    "version": 3
   },
   "file_extension": ".py",
   "mimetype": "text/x-python",
   "name": "python",
   "nbconvert_exporter": "python",
   "pygments_lexer": "ipython3",
   "version": "3.9.10"
  }
 },
 "nbformat": 4,
 "nbformat_minor": 4
}
