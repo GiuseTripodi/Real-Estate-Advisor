{
 "cells": [
  {
   "cell_type": "code",
   "execution_count": 6,
   "id": "fb61e253-e553-41d6-b6c1-5a8f2fd270a7",
   "metadata": {},
   "outputs": [],
   "source": [
    "import csv\n",
    "import json\n",
    "\n",
    "# Function to convert a CSV to JSON\n",
    "# Takes the file paths as arguments\n",
    "def make_json(ID, csvFilePath, jsonFilePath, jsonlFilePath):\n",
    "\n",
    "    # create a dictionary\n",
    "    data = {}\n",
    "\n",
    "    # Open a csv reader called DictReader\n",
    "    with open(csvFilePath, encoding='utf-8') as csvf:\n",
    "        csvReader = csv.DictReader(csvf)\n",
    "\n",
    "        # Convert each row into a dictionary\n",
    "        # and add it to data\n",
    "        for rows in csvReader:\n",
    "\n",
    "            # Assuming a column named 'ID' to\n",
    "            # be the primary key\n",
    "            key = rows[ID]\n",
    "            data[key] = rows\n",
    "\n",
    "    line_data = []\n",
    "    for key in data:\n",
    "        line_data.append(json.dumps(data[key]))\n",
    "            \n",
    "    lines = []\n",
    "    for idx, val in enumerate(line_data):\n",
    "        if idx < len(line_data) - 1:\n",
    "            lines.append(\"%s\\n\" % val)\n",
    "        else:\n",
    "            lines.append(val)\n",
    "        \n",
    "    with open(jsonlFilePath, 'w', encoding='utf-8') as jsonl:\n",
    "        jsonl.writelines(lines)\n",
    " \n",
    "    # Open a json writer, and use the json.dumps()\n",
    "    # function to dump data\n",
    "    with open(jsonFilePath, 'w', encoding='utf-8') as jsonf:\n",
    "        jsonf.write(json.dumps(data, indent=4))\n"
   ]
  },
  {
   "cell_type": "code",
   "execution_count": null,
   "id": "4f92f362-a8e6-432a-8240-c2c2b5e34338",
   "metadata": {},
   "outputs": [],
   "source": [
    "csvFilePath = r'geno_flat.csv'\n",
    "jsonFilePath = r'geno_flats.json'\n",
    "jsonlFilePath = r'geno_flats.jsonl'\n",
    "\n",
    "# flatId is the identifier for flats\n",
    "make_json('flatId', csvFilePath, jsonFilePath, jsonlFilePath)"
   ]
  },
  {
   "cell_type": "code",
   "execution_count": null,
   "id": "c39fb8b3-2e00-4c40-be0e-483681101ea0",
   "metadata": {},
   "outputs": [],
   "source": []
  },
  {
   "cell_type": "code",
   "execution_count": null,
   "id": "23baad92-5f50-4c79-9112-ccb4d73b34c4",
   "metadata": {},
   "outputs": [],
   "source": []
  },
  {
   "cell_type": "code",
   "execution_count": null,
   "id": "7ebf74b7-14f9-4d85-a870-ff72e48b4433",
   "metadata": {},
   "outputs": [],
   "source": []
  },
  {
   "cell_type": "code",
   "execution_count": null,
   "id": "5cf39127-7345-476c-829d-695981b79a33",
   "metadata": {},
   "outputs": [],
   "source": []
  }
 ],
 "metadata": {
  "kernelspec": {
   "display_name": "Python 3 (ipykernel)",
   "language": "python",
   "name": "python3"
  },
  "language_info": {
   "codemirror_mode": {
    "name": "ipython",
    "version": 3
   },
   "file_extension": ".py",
   "mimetype": "text/x-python",
   "name": "python",
   "nbconvert_exporter": "python",
   "pygments_lexer": "ipython3",
   "version": "3.9.10"
  }
 },
 "nbformat": 4,
 "nbformat_minor": 5
}
